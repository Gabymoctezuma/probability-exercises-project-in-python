{
 "cells": [
  {
   "cell_type": "markdown",
   "id": "a41f3622",
   "metadata": {},
   "source": [
    "# Ejercicios de probabilidad"
   ]
  },
  {
   "cell_type": "markdown",
   "id": "a6bdbd89",
   "metadata": {},
   "source": [
    "## Ejercicio 1 \n",
    "\n",
    "Dos dados se lanzan una vez y se observa el total obtenido. Usa una simulación para encontrar la probabilidad estimada de que la puntuación sea mayor a 7 o un número par. Una simulación es una repetición del mismo experimento multiples veces para observar su comportamiento:\n",
    "\n",
    "- Ejecuta el experimento 1000 veces (lanza 2 dados 1000 veces, y suma el número de ambos dados).\n",
    "- Lleva ua cuenta de los números y las veces que la suma fue mayor a 7 o un número par.\n",
    "- Divide el número del paso 2 entre el número de iteraciones(1000)."
   ]
  },
  {
   "cell_type": "code",
   "execution_count": 1,
   "id": "8939d892",
   "metadata": {},
   "outputs": [
    {
     "name": "stdout",
     "output_type": "stream",
     "text": [
      "La probabilidad de que la suma de los dados sea mayor a 7 o un numero par es : 0.58\n"
     ]
    }
   ],
   "source": [
    "# TODO\n",
    "import numpy as np\n",
    "import pandas as pd\n",
    "\n",
    "\n",
    "n=1000\n",
    "contador = 0\n",
    "\n",
    "\n",
    "for i in range(n):\n",
    "    #Definir dados\n",
    "    dado1=np.random.randint(1,6)\n",
    "    dado2=np.random.randint(1,6)\n",
    "# Suma de dados\n",
    "    sum_dados= dado1 + dado2\n",
    "    if (sum_dados>7) or (sum_dados %2==0):\n",
    "        contador = contador + 1\n",
    "\n",
    "    probabilidad= contador/n\n",
    "print(f\"La probabilidad de que la suma de los dados sea mayor a 7 o un numero par es : {probabilidad}\")\n"
   ]
  },
  {
   "cell_type": "markdown",
   "id": "55732bca",
   "metadata": {},
   "source": [
    "## Ejercicio 2\n",
    "\n",
    "Una caja contiene 10 bolas blancas, 20 bolas rojas y 30 bolas verdes. Si tomamos 5 bolas de la caja reemplazándolas (tomando una bola, anotando el color y luego regresandola a la caja). Queremos saber la probabilidad de:\n",
    "\n",
    "1. Tomar 3 blancas y 2 rojas.\n",
    "2. Toas todas del mismo color.\n",
    "\n",
    "Ejecuta el experimento 1000 veces y calcula las probabilidades que mencionadas."
   ]
  },
  {
   "cell_type": "code",
   "execution_count": 16,
   "id": "23244d20",
   "metadata": {},
   "outputs": [
    {
     "name": "stdout",
     "output_type": "stream",
     "text": [
      "La probabilidad de que salgan 3 bolas blancas y 2 rojas es :0.01, /n La probabilidad de que salgan las 5 bolas extraídas del mismo color es:0.031\n"
     ]
    }
   ],
   "source": [
    "import numpy as np\n",
    "import pandas as pd\n",
    "n=1000\n",
    "contador_option1=0\n",
    "contador_option2=0\n",
    "\n",
    "ball_box={}\n",
    "\n",
    "\n",
    "# Crea la cajas con las bolas\n",
    "for i in range(60):\n",
    "    if i < 10:\n",
    "        ball_box[i] = \"White\"\n",
    "    elif (i > 9) and (i < 30):\n",
    "        ball_box[i] = \"Red\"\n",
    "    else:\n",
    "        ball_box[i] = \"Green\"\n",
    "\n",
    "\n",
    "for i in range(n):\n",
    "    colors_5 = []\n",
    "    for i in range(5):\n",
    "            colors_5.append(ball_box[np.random.randint(0, 59)])\n",
    "\n",
    "    colors_5 = np.array(colors_5)\n",
    "        \n",
    "    white_balls = sum(colors_5 == \"White\")\n",
    "    red_balls = sum(colors_5 == \"Red\")\n",
    "    green_balls = sum(colors_5 == \"Green\")\n",
    "\n",
    " \n",
    "    if (white_balls == 3) and (red_balls == 2):\n",
    "            contador_option1 += 1\n",
    "        \n",
    "    if (white_balls == 5) or (red_balls == 5) or (green_balls == 5):\n",
    "            contador_option2 += 1\n",
    "    \n",
    "   \n",
    "probabilidad_option1=contador_option1/n\n",
    "probabilidad_option2=contador_option2/n\n",
    "\n",
    "print(f\"La probabilidad de que salgan 3 bolas blancas y 2 rojas es :{probabilidad_option1}, /n La probabilidad de que salgan las 5 bolas extraídas del mismo color es:{probabilidad_option2}\")\n",
    "            \n",
    "# TODO"
   ]
  }
 ],
 "metadata": {
  "kernelspec": {
   "display_name": "Python 3",
   "language": "python",
   "name": "python3"
  },
  "language_info": {
   "codemirror_mode": {
    "name": "ipython",
    "version": 3
   },
   "file_extension": ".py",
   "mimetype": "text/x-python",
   "name": "python",
   "nbconvert_exporter": "python",
   "pygments_lexer": "ipython3",
   "version": "3.11.4"
  }
 },
 "nbformat": 4,
 "nbformat_minor": 5
}
