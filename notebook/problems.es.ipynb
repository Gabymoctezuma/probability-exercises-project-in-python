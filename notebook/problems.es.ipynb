{
 "cells": [
  {
   "cell_type": "markdown",
   "id": "a41f3622",
   "metadata": {},
   "source": [
    "# Ejercicios de probabilidad"
   ]
  },
  {
   "cell_type": "markdown",
   "id": "a6bdbd89",
   "metadata": {},
   "source": [
    "## Ejercicio 1 \n",
    "\n",
    "Dos dados se lanzan una vez y se observa el total obtenido. Usa una simulación para encontrar la probabilidad estimada de que la puntuación sea mayor a 7 o un número par. Una simulación es una repetición del mismo experimento multiples veces para observar su comportamiento:\n",
    "\n",
    "- Ejecuta el experimento 1000 veces (lanza 2 dados 1000 veces, y suma el número de ambos dados).\n",
    "- Lleva ua cuenta de los números y las veces que la suma fue mayor a 7 o un número par.\n",
    "- Divide el número del paso 2 entre el número de iteraciones(1000)."
   ]
  },
  {
   "cell_type": "code",
   "execution_count": 1,
   "id": "8939d892",
   "metadata": {},
   "outputs": [
    {
     "name": "stdout",
     "output_type": "stream",
     "text": [
      "La probabilidad de que la suma de los dados sea mayor a 7 o un numero par es : 0.58\n"
     ]
    }
   ],
   "source": [
    "# TODO\n",
    "import numpy as np\n",
    "import pandas as pd\n",
    "\n",
    "\n",
    "n=1000\n",
    "contador = 0\n",
    "\n",
    "\n",
    "for i in range(n):\n",
    "    #Definir dados\n",
    "    dado1=np.random.randint(1,6)\n",
    "    dado2=np.random.randint(1,6)\n",
    "# Suma de dados\n",
    "    sum_dados= dado1 + dado2\n",
    "    if (sum_dados>7) or (sum_dados %2==0):\n",
    "        contador = contador + 1\n",
    "\n",
    "    probabilidad= contador/n\n",
    "print(f\"La probabilidad de que la suma de los dados sea mayor a 7 o un numero par es : {probabilidad}\")\n"
   ]
  },
  {
   "cell_type": "markdown",
   "id": "55732bca",
   "metadata": {},
   "source": [
    "## Ejercicio 2\n",
    "\n",
    "Una caja contiene 10 bolas blancas, 20 bolas rojas y 30 bolas verdes. Si tomamos 5 bolas de la caja reemplazándolas (tomando una bola, anotando el color y luego regresandola a la caja). Queremos saber la probabilidad de:\n",
    "\n",
    "1. Tomar 3 blancas y 2 rojas.\n",
    "2. Toas todas del mismo color.\n",
    "\n",
    "Ejecuta el experimento 1000 veces y calcula las probabilidades que mencionadas."
   ]
  },
  {
   "cell_type": "code",
   "execution_count": 25,
   "id": "83953c66",
   "metadata": {},
   "outputs": [
    {
     "name": "stdout",
     "output_type": "stream",
     "text": [
      "{0: 'Blanco', 1: 'Blanco', 2: 'Blanco', 3: 'Blanco', 4: 'Blanco', 5: 'Blanco', 6: 'Blanco', 7: 'Blanco', 8: 'Blanco', 9: 'Blanco', 10: 'Rojo', 11: 'Rojo', 12: 'Rojo', 13: 'Rojo', 14: 'Rojo', 15: 'Rojo', 16: 'Rojo', 17: 'Rojo', 18: 'Rojo', 19: 'Rojo', 20: 'Rojo', 21: 'Rojo', 22: 'Rojo', 23: 'Rojo', 24: 'Rojo', 25: 'Rojo', 26: 'Rojo', 27: 'Rojo', 28: 'Rojo', 29: 'Rojo', 30: 'Verde', 31: 'Verde', 32: 'Verde', 33: 'Verde', 34: 'Verde', 35: 'Verde', 36: 'Verde', 37: 'Verde', 38: 'Verde', 39: 'Verde', 40: 'Verde', 41: 'Verde', 42: 'Verde', 43: 'Verde', 44: 'Verde', 45: 'Verde', 46: 'Verde', 47: 'Verde', 48: 'Verde', 49: 'Verde', 50: 'Verde', 51: 'Verde', 52: 'Verde', 53: 'Verde', 54: 'Verde', 55: 'Verde', 56: 'Verde', 57: 'Verde', 58: 'Verde', 59: 'Verde'}\n",
      "La probabilidad de que salgan 3 bolas blancas y 2 rojas es: 0.6%\n",
      "La probabilidad de que todas las bolas sean del mismo color es: 2.4%\n"
     ]
    }
   ],
   "source": [
    "import numpy as np\n",
    "import pandas as pd\n",
    "\n",
    "ball_box = {}\n",
    "\n",
    "for i in range(60):\n",
    "    if i < 10:\n",
    "        ball_box[i] = \"Blanco\"\n",
    "    elif (i > 9) and (i < 30):\n",
    "        ball_box[i] = \"Rojo\"\n",
    "    else:\n",
    "        ball_box[i] = \"Verde\"\n",
    "\n",
    "print(ball_box)\n",
    "            \n",
    "def take_balls(n_simulations = 1000):\n",
    "    contador1 = 0\n",
    "    contador2 = 0\n",
    "\n",
    "    for i in range(n_simulations):\n",
    "        colors = []\n",
    "\n",
    "        \n",
    "        for i in range(5):\n",
    "            colors.append(ball_box[np.random.randint(0, 59)])\n",
    "\n",
    "        \n",
    "        colors = np.array(colors)\n",
    "        \n",
    "        bolas_blancas = sum(colors == \"Blanco\")\n",
    "        bolas_rojas = sum(colors == \"Rojo\")\n",
    "        bolas_verdes = sum(colors == \"Verde\")\n",
    "\n",
    "\n",
    "        if (bolas_blancas == 3) and (bolas_rojas == 2):\n",
    "            contador1 += 1\n",
    "        \n",
    "        if (bolas_blancas == 5) or (bolas_rojas == 5) or (bolas_verdes == 5):\n",
    "            contador2 += 1\n",
    "    \n",
    "    return contador1 / n_simulations, contador2 / n_simulations\n",
    "\n",
    "probabilities = take_balls(1000)\n",
    "option1=probabilities[0]*100\n",
    "option2=probabilities[1]*100\n",
    "\n",
    "print(f\"La probabilidad de que salgan 3 bolas blancas y 2 rojas es: {np.round(option1, 2)}%\")\n",
    "print(f\"La probabilidad de que todas las bolas sean del mismo color es: {np.round(option2, 2)}%\")"
   ]
  }
 ],
 "metadata": {
  "kernelspec": {
   "display_name": "Python 3",
   "language": "python",
   "name": "python3"
  },
  "language_info": {
   "codemirror_mode": {
    "name": "ipython",
    "version": 3
   },
   "file_extension": ".py",
   "mimetype": "text/x-python",
   "name": "python",
   "nbconvert_exporter": "python",
   "pygments_lexer": "ipython3",
   "version": "3.11.4"
  }
 },
 "nbformat": 4,
 "nbformat_minor": 5
}
